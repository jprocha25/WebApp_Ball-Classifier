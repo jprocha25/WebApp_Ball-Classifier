{
 "cells": [
  {
   "cell_type": "code",
   "execution_count": 17,
   "metadata": {
    "colab": {
     "base_uri": "https://localhost:8080/"
    },
    "id": "n5RlxBSkYLSZ",
    "outputId": "6a2445df-a78c-4e82-a027-fedf5e034e14",
    "scrolled": true
   },
   "outputs": [],
   "source": [
    "#hide\n",
    "!pip install -Uqq fastbook\n",
    "import fastbook\n",
    "fastbook.setup_book()"
   ]
  },
  {
   "cell_type": "markdown",
   "metadata": {},
   "source": [
    "# Hello, and Welcome to the Amazing Web Based Ball Classifier!!! #"
   ]
  },
  {
   "cell_type": "markdown",
   "metadata": {
    "id": "pMDOl1Z5bg9b"
   },
   "source": [
    "This is the best way to know witch sport is your ball made for!\n",
    "You can upload downlow the image of your ball and we will let you know if it is a Basketball, a Volleyball or a Tennis ball. Isn't that awesome?\n",
    "\n",
    "We use Deep Learning applied to Image recognition, trainning our model o help you know the exact type of ball.\n",
    "\n",
    "\n",
    "\n",
    "\n",
    "### Use steps: ### \n",
    "First click the upload and send us the photo of our ball!\n",
    "Then it is all automatic, we will tell you if you ball was made for tennis, basketball or voleyball and even how sure we are of it!!\n",
    "\n",
    "## Enjoy ##"
   ]
  },
  {
   "cell_type": "code",
   "execution_count": 18,
   "metadata": {
    "id": "xTAJ38vAbgQI"
   },
   "outputs": [],
   "source": [
    "from fastai.vision.all import *\n",
    "from fastai.vision.widgets import *"
   ]
  },
  {
   "cell_type": "code",
   "execution_count": 20,
   "metadata": {
    "id": "7bWaimq8ZU8d"
   },
   "outputs": [],
   "source": [
    "path = Path()\n",
    "learn_inf = load_learner(path/'export.pkl', cpu=True)\n",
    "btn_upload = widgets.FileUpload()\n",
    "out_pl = widgets.Output()\n",
    "lbl_pred = widgets.Label()"
   ]
  },
  {
   "cell_type": "code",
   "execution_count": 21,
   "metadata": {
    "id": "cG0KZOL9Zq8g"
   },
   "outputs": [],
   "source": [
    "def on_data_change(change):\n",
    "    lbl_pred.value = ''\n",
    "    img = PILImage.create(btn_upload.data[-1])\n",
    "    out_pl.clear_output()\n",
    "    with out_pl: display(img.to_thumb(128,128))\n",
    "    pred,pred_idx,probs = learn_inf.predict(img)\n",
    "    lbl_pred.value = f'Prediction: {pred}; Probability: {probs[pred_idx]:.04f}'"
   ]
  },
  {
   "cell_type": "code",
   "execution_count": 22,
   "metadata": {
    "id": "jfWCRpHXZ-AM"
   },
   "outputs": [],
   "source": [
    "btn_upload.observe(on_data_change, names=['data'])"
   ]
  },
  {
   "cell_type": "code",
   "execution_count": 23,
   "metadata": {
    "colab": {
     "base_uri": "https://localhost:8080/",
     "height": 238,
     "referenced_widgets": [
      "ff0f3c7a426b4739828d683fe56fdfd1",
      "93c37166bc76420ea288a90ef71bcf9c",
      "30ca6295ff044bc1bb38827c247bc1cf",
      "ef25f9c01bda4956922b44b2a08dffb2",
      "446bff0541b04927ba7148e8a48165df",
      "a630c839e6c8481aa17ce36b1da25e21",
      "e5b1d39bfc514c6cb5dbe844286b38d0",
      "84371039252f41f9b88d4bb242889a63",
      "5e206c5148dc425fbf433d35130e9279",
      "e5b1c070e78840ecb751098ccf5eabd8",
      "90a46da9491b4aada2d289296a462817",
      "ee4c7335ec6b4c64ad5f5e104035f1aa",
      "c071c7ceec2042f9b0e11bce1b868baa"
     ]
    },
    "id": "wV66YZEWaAhW",
    "outputId": "b6d752be-01d6-4c9c-f2e2-ea10ee8efce1",
    "scrolled": true
   },
   "outputs": [
    {
     "data": {
      "application/vnd.jupyter.widget-view+json": {
       "model_id": "10b690a3a4a1412981e4797776125408",
       "version_major": 2,
       "version_minor": 0
      },
      "text/plain": [
       "VBox(children=(Label(value='Select your ball!'), FileUpload(value={}, description='Upload'), Output(), Label(v…"
      ]
     },
     "metadata": {},
     "output_type": "display_data"
    }
   ],
   "source": [
    "display(VBox([widgets.Label('Select your ball!'), btn_upload, out_pl, lbl_pred]))"
   ]
  }
 ],
 "metadata": {
  "accelerator": "GPU",
  "colab": {
   "name": "Untitled0.ipynb",
   "provenance": []
  },
  "kernelspec": {
   "display_name": "Python 3 (ipykernel)",
   "language": "python",
   "name": "python3"
  },
  "language_info": {
   "codemirror_mode": {
    "name": "ipython",
    "version": 3
   },
   "file_extension": ".py",
   "mimetype": "text/x-python",
   "name": "python",
   "nbconvert_exporter": "python",
   "pygments_lexer": "ipython3",
   "version": "3.9.7"
  },
  "widgets": {
   "application/vnd.jupyter.widget-state+json": {
    "30ca6295ff044bc1bb38827c247bc1cf": {
     "model_module": "@jupyter-widgets/controls",
     "model_module_version": "1.5.0",
     "model_name": "FileUploadModel",
     "state": {
      "_counter": 1,
      "_dom_classes": [],
      "_model_module": "@jupyter-widgets/controls",
      "_model_module_version": "1.5.0",
      "_model_name": "FileUploadModel",
      "_view_count": null,
      "_view_module": "@jupyter-widgets/controls",
      "_view_module_version": "1.5.0",
      "_view_name": "FileUploadView",
      "accept": "",
      "button_style": "",
      "data": [
       null
      ],
      "description": "Upload",
      "description_tooltip": null,
      "disabled": false,
      "error": "",
      "icon": "upload",
      "layout": "IPY_MODEL_5e206c5148dc425fbf433d35130e9279",
      "metadata": [
       {
        "lastModified": 1652060219952,
        "name": "tennis.jpeg",
        "size": 3312,
        "type": "image/jpeg"
       }
      ],
      "multiple": false,
      "style": "IPY_MODEL_e5b1c070e78840ecb751098ccf5eabd8"
     }
    },
    "446bff0541b04927ba7148e8a48165df": {
     "model_module": "@jupyter-widgets/controls",
     "model_module_version": "1.5.0",
     "model_name": "LabelModel",
     "state": {
      "_dom_classes": [],
      "_model_module": "@jupyter-widgets/controls",
      "_model_module_version": "1.5.0",
      "_model_name": "LabelModel",
      "_view_count": null,
      "_view_module": "@jupyter-widgets/controls",
      "_view_module_version": "1.5.0",
      "_view_name": "LabelView",
      "description": "",
      "description_tooltip": null,
      "layout": "IPY_MODEL_90a46da9491b4aada2d289296a462817",
      "placeholder": "​",
      "style": "IPY_MODEL_ee4c7335ec6b4c64ad5f5e104035f1aa",
      "value": "Prediction: tennis; Probability: 0.9861"
     }
    },
    "5e206c5148dc425fbf433d35130e9279": {
     "model_module": "@jupyter-widgets/base",
     "model_module_version": "1.2.0",
     "model_name": "LayoutModel",
     "state": {
      "_model_module": "@jupyter-widgets/base",
      "_model_module_version": "1.2.0",
      "_model_name": "LayoutModel",
      "_view_count": null,
      "_view_module": "@jupyter-widgets/base",
      "_view_module_version": "1.2.0",
      "_view_name": "LayoutView",
      "align_content": null,
      "align_items": null,
      "align_self": null,
      "border": null,
      "bottom": null,
      "display": null,
      "flex": null,
      "flex_flow": null,
      "grid_area": null,
      "grid_auto_columns": null,
      "grid_auto_flow": null,
      "grid_auto_rows": null,
      "grid_column": null,
      "grid_gap": null,
      "grid_row": null,
      "grid_template_areas": null,
      "grid_template_columns": null,
      "grid_template_rows": null,
      "height": null,
      "justify_content": null,
      "justify_items": null,
      "left": null,
      "margin": null,
      "max_height": null,
      "max_width": null,
      "min_height": null,
      "min_width": null,
      "object_fit": null,
      "object_position": null,
      "order": null,
      "overflow": null,
      "overflow_x": null,
      "overflow_y": null,
      "padding": null,
      "right": null,
      "top": null,
      "visibility": null,
      "width": null
     }
    },
    "84371039252f41f9b88d4bb242889a63": {
     "model_module": "@jupyter-widgets/controls",
     "model_module_version": "1.5.0",
     "model_name": "DescriptionStyleModel",
     "state": {
      "_model_module": "@jupyter-widgets/controls",
      "_model_module_version": "1.5.0",
      "_model_name": "DescriptionStyleModel",
      "_view_count": null,
      "_view_module": "@jupyter-widgets/base",
      "_view_module_version": "1.2.0",
      "_view_name": "StyleView",
      "description_width": ""
     }
    },
    "90a46da9491b4aada2d289296a462817": {
     "model_module": "@jupyter-widgets/base",
     "model_module_version": "1.2.0",
     "model_name": "LayoutModel",
     "state": {
      "_model_module": "@jupyter-widgets/base",
      "_model_module_version": "1.2.0",
      "_model_name": "LayoutModel",
      "_view_count": null,
      "_view_module": "@jupyter-widgets/base",
      "_view_module_version": "1.2.0",
      "_view_name": "LayoutView",
      "align_content": null,
      "align_items": null,
      "align_self": null,
      "border": null,
      "bottom": null,
      "display": null,
      "flex": null,
      "flex_flow": null,
      "grid_area": null,
      "grid_auto_columns": null,
      "grid_auto_flow": null,
      "grid_auto_rows": null,
      "grid_column": null,
      "grid_gap": null,
      "grid_row": null,
      "grid_template_areas": null,
      "grid_template_columns": null,
      "grid_template_rows": null,
      "height": null,
      "justify_content": null,
      "justify_items": null,
      "left": null,
      "margin": null,
      "max_height": null,
      "max_width": null,
      "min_height": null,
      "min_width": null,
      "object_fit": null,
      "object_position": null,
      "order": null,
      "overflow": null,
      "overflow_x": null,
      "overflow_y": null,
      "padding": null,
      "right": null,
      "top": null,
      "visibility": null,
      "width": null
     }
    },
    "93c37166bc76420ea288a90ef71bcf9c": {
     "model_module": "@jupyter-widgets/controls",
     "model_module_version": "1.5.0",
     "model_name": "LabelModel",
     "state": {
      "_dom_classes": [],
      "_model_module": "@jupyter-widgets/controls",
      "_model_module_version": "1.5.0",
      "_model_name": "LabelModel",
      "_view_count": null,
      "_view_module": "@jupyter-widgets/controls",
      "_view_module_version": "1.5.0",
      "_view_name": "LabelView",
      "description": "",
      "description_tooltip": null,
      "layout": "IPY_MODEL_e5b1d39bfc514c6cb5dbe844286b38d0",
      "placeholder": "​",
      "style": "IPY_MODEL_84371039252f41f9b88d4bb242889a63",
      "value": "Select your ball!"
     }
    },
    "a630c839e6c8481aa17ce36b1da25e21": {
     "model_module": "@jupyter-widgets/base",
     "model_module_version": "1.2.0",
     "model_name": "LayoutModel",
     "state": {
      "_model_module": "@jupyter-widgets/base",
      "_model_module_version": "1.2.0",
      "_model_name": "LayoutModel",
      "_view_count": null,
      "_view_module": "@jupyter-widgets/base",
      "_view_module_version": "1.2.0",
      "_view_name": "LayoutView",
      "align_content": null,
      "align_items": null,
      "align_self": null,
      "border": null,
      "bottom": null,
      "display": null,
      "flex": null,
      "flex_flow": null,
      "grid_area": null,
      "grid_auto_columns": null,
      "grid_auto_flow": null,
      "grid_auto_rows": null,
      "grid_column": null,
      "grid_gap": null,
      "grid_row": null,
      "grid_template_areas": null,
      "grid_template_columns": null,
      "grid_template_rows": null,
      "height": null,
      "justify_content": null,
      "justify_items": null,
      "left": null,
      "margin": null,
      "max_height": null,
      "max_width": null,
      "min_height": null,
      "min_width": null,
      "object_fit": null,
      "object_position": null,
      "order": null,
      "overflow": null,
      "overflow_x": null,
      "overflow_y": null,
      "padding": null,
      "right": null,
      "top": null,
      "visibility": null,
      "width": null
     }
    },
    "c071c7ceec2042f9b0e11bce1b868baa": {
     "model_module": "@jupyter-widgets/base",
     "model_module_version": "1.2.0",
     "model_name": "LayoutModel",
     "state": {
      "_model_module": "@jupyter-widgets/base",
      "_model_module_version": "1.2.0",
      "_model_name": "LayoutModel",
      "_view_count": null,
      "_view_module": "@jupyter-widgets/base",
      "_view_module_version": "1.2.0",
      "_view_name": "LayoutView",
      "align_content": null,
      "align_items": null,
      "align_self": null,
      "border": null,
      "bottom": null,
      "display": null,
      "flex": null,
      "flex_flow": null,
      "grid_area": null,
      "grid_auto_columns": null,
      "grid_auto_flow": null,
      "grid_auto_rows": null,
      "grid_column": null,
      "grid_gap": null,
      "grid_row": null,
      "grid_template_areas": null,
      "grid_template_columns": null,
      "grid_template_rows": null,
      "height": null,
      "justify_content": null,
      "justify_items": null,
      "left": null,
      "margin": null,
      "max_height": null,
      "max_width": null,
      "min_height": null,
      "min_width": null,
      "object_fit": null,
      "object_position": null,
      "order": null,
      "overflow": null,
      "overflow_x": null,
      "overflow_y": null,
      "padding": null,
      "right": null,
      "top": null,
      "visibility": null,
      "width": null
     }
    },
    "e5b1c070e78840ecb751098ccf5eabd8": {
     "model_module": "@jupyter-widgets/controls",
     "model_module_version": "1.5.0",
     "model_name": "ButtonStyleModel",
     "state": {
      "_model_module": "@jupyter-widgets/controls",
      "_model_module_version": "1.5.0",
      "_model_name": "ButtonStyleModel",
      "_view_count": null,
      "_view_module": "@jupyter-widgets/base",
      "_view_module_version": "1.2.0",
      "_view_name": "StyleView",
      "button_color": null,
      "font_weight": ""
     }
    },
    "e5b1d39bfc514c6cb5dbe844286b38d0": {
     "model_module": "@jupyter-widgets/base",
     "model_module_version": "1.2.0",
     "model_name": "LayoutModel",
     "state": {
      "_model_module": "@jupyter-widgets/base",
      "_model_module_version": "1.2.0",
      "_model_name": "LayoutModel",
      "_view_count": null,
      "_view_module": "@jupyter-widgets/base",
      "_view_module_version": "1.2.0",
      "_view_name": "LayoutView",
      "align_content": null,
      "align_items": null,
      "align_self": null,
      "border": null,
      "bottom": null,
      "display": null,
      "flex": null,
      "flex_flow": null,
      "grid_area": null,
      "grid_auto_columns": null,
      "grid_auto_flow": null,
      "grid_auto_rows": null,
      "grid_column": null,
      "grid_gap": null,
      "grid_row": null,
      "grid_template_areas": null,
      "grid_template_columns": null,
      "grid_template_rows": null,
      "height": null,
      "justify_content": null,
      "justify_items": null,
      "left": null,
      "margin": null,
      "max_height": null,
      "max_width": null,
      "min_height": null,
      "min_width": null,
      "object_fit": null,
      "object_position": null,
      "order": null,
      "overflow": null,
      "overflow_x": null,
      "overflow_y": null,
      "padding": null,
      "right": null,
      "top": null,
      "visibility": null,
      "width": null
     }
    },
    "ee4c7335ec6b4c64ad5f5e104035f1aa": {
     "model_module": "@jupyter-widgets/controls",
     "model_module_version": "1.5.0",
     "model_name": "DescriptionStyleModel",
     "state": {
      "_model_module": "@jupyter-widgets/controls",
      "_model_module_version": "1.5.0",
      "_model_name": "DescriptionStyleModel",
      "_view_count": null,
      "_view_module": "@jupyter-widgets/base",
      "_view_module_version": "1.2.0",
      "_view_name": "StyleView",
      "description_width": ""
     }
    },
    "ef25f9c01bda4956922b44b2a08dffb2": {
     "model_module": "@jupyter-widgets/output",
     "model_module_version": "1.0.0",
     "model_name": "OutputModel",
     "state": {
      "_dom_classes": [],
      "_model_module": "@jupyter-widgets/output",
      "_model_module_version": "1.0.0",
      "_model_name": "OutputModel",
      "_view_count": null,
      "_view_module": "@jupyter-widgets/output",
      "_view_module_version": "1.0.0",
      "_view_name": "OutputView",
      "layout": "IPY_MODEL_c071c7ceec2042f9b0e11bce1b868baa",
      "msg_id": "",
      "outputs": [
       {
        "data": {
         "image/png": "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\n",
         "text/plain": "<PIL.Image.Image image mode=RGB size=125x125 at 0x7F0747C12B10>"
        },
        "metadata": {},
        "output_type": "display_data"
       }
      ]
     }
    },
    "ff0f3c7a426b4739828d683fe56fdfd1": {
     "model_module": "@jupyter-widgets/controls",
     "model_module_version": "1.5.0",
     "model_name": "VBoxModel",
     "state": {
      "_dom_classes": [],
      "_model_module": "@jupyter-widgets/controls",
      "_model_module_version": "1.5.0",
      "_model_name": "VBoxModel",
      "_view_count": null,
      "_view_module": "@jupyter-widgets/controls",
      "_view_module_version": "1.5.0",
      "_view_name": "VBoxView",
      "box_style": "",
      "children": [
       "IPY_MODEL_93c37166bc76420ea288a90ef71bcf9c",
       "IPY_MODEL_30ca6295ff044bc1bb38827c247bc1cf",
       "IPY_MODEL_ef25f9c01bda4956922b44b2a08dffb2",
       "IPY_MODEL_446bff0541b04927ba7148e8a48165df"
      ],
      "layout": "IPY_MODEL_a630c839e6c8481aa17ce36b1da25e21"
     }
    }
   }
  }
 },
 "nbformat": 4,
 "nbformat_minor": 1
}
